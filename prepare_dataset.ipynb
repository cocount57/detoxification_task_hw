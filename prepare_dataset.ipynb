{
 "cells": [
  {
   "cell_type": "code",
   "execution_count": 1,
   "id": "7f233f01",
   "metadata": {},
   "outputs": [],
   "source": [
    "from datasets import load_dataset\n",
    "\n",
    "# Load dataset\n",
    "dataset = load_dataset(\"textdetox/multilingual_paradetox\", cache_dir=\"../cache\")"
   ]
  },
  {
   "cell_type": "code",
   "execution_count": 7,
   "id": "03336433",
   "metadata": {},
   "outputs": [],
   "source": [
    "from datasets import concatenate_datasets\n",
    "from sklearn.model_selection import train_test_split\n",
    "\n",
    "language_prompts = {\n",
    "    \"en\": \"translate from English to English: \",\n",
    "    \"ru\": \"translate from Russian to Russian: \",\n",
    "    \"uk\": \"translate from Ukrainian to Ukrainian: \",\n",
    "    \"de\": \"translate from German to German: \",\n",
    "    \"es\": \"translate from Spanish to Spanish: \",\n",
    "    \"am\": \"translate from Amharic to Amharic: \",\n",
    "    \"zh\": \"translate from Chinese to Chinese: \",\n",
    "    \"ar\": \"translate from Arabic to Arabic: \",\n",
    "    \"hi\": \"translate from Hindi to Hindi: \",\n",
    "}\n",
    "\n",
    "combined_datasets = {}\n",
    "for lang, datasett in dataset.items():\n",
    "    prompt = language_prompts[lang]\n",
    "    datasett = datasett.map(lambda example: {\"input_text\": prompt + example[\"toxic_sentence\"], \"target_text\": example[\"neutral_sentence\"]}, remove_columns=[\"toxic_sentence\", \"neutral_sentence\"])\n",
    "    combined_datasets[lang] = datasett\n",
    "\n",
    "combined_dataset = concatenate_datasets(combined_datasets.values())\n",
    "\n",
    "datasets = combined_dataset.train_test_split(test_size=0.2, seed=42)"
   ]
  },
  {
   "cell_type": "code",
   "execution_count": 8,
   "id": "a2416e0f",
   "metadata": {},
   "outputs": [],
   "source": [
    "from transformers import UMT5ForConditionalGeneration, AutoTokenizer, Seq2SeqTrainer, Seq2SeqTrainingArguments\n",
    "\n",
    "model_name = \"google/umt5-base\"\n",
    "tokenizer = AutoTokenizer.from_pretrained(model_name, cache_dir=\"../cache\")"
   ]
  },
  {
   "cell_type": "code",
   "execution_count": 9,
   "id": "4991dc1c",
   "metadata": {},
   "outputs": [],
   "source": [
    "def tokenize_function(examples):\n",
    "    return  {\"input_ids\": tokenizer(examples[\"input_text\"], padding='max_length', truncation=True, max_length=512)[\"input_ids\"], \"labels\": tokenizer(examples[\"target_text\"], padding='max_length', truncation=True, max_length=128)[\"input_ids\"]}"
   ]
  },
  {
   "cell_type": "code",
   "execution_count": 10,
   "id": "53d2ce6f",
   "metadata": {},
   "outputs": [],
   "source": [
    "tokenized_datasets = datasets.map(tokenize_function, remove_columns=[\"input_text\", \"target_text\"], num_proc=4, batched=True)"
   ]
  },
  {
   "cell_type": "code",
   "execution_count": 11,
   "id": "f5abfac7",
   "metadata": {},
   "outputs": [
    {
     "data": {
      "text/plain": [
       "DatasetDict({\n",
       "    train: Dataset({\n",
       "        features: ['input_ids', 'labels'],\n",
       "        num_rows: 2880\n",
       "    })\n",
       "    test: Dataset({\n",
       "        features: ['input_ids', 'labels'],\n",
       "        num_rows: 720\n",
       "    })\n",
       "})"
      ]
     },
     "execution_count": 11,
     "metadata": {},
     "output_type": "execute_result"
    }
   ],
   "source": [
    "tokenized_datasets"
   ]
  },
  {
   "cell_type": "code",
   "execution_count": null,
   "id": "d744ae59",
   "metadata": {},
   "outputs": [],
   "source": [
    "tokenized_datasets.save_to_disk(\"tokenized_datasets\")"
   ]
  }
 ],
 "metadata": {
  "kernelspec": {
   "display_name": "Python 3 (ipykernel)",
   "language": "python",
   "name": "python3"
  },
  "language_info": {
   "codemirror_mode": {
    "name": "ipython",
    "version": 3
   },
   "file_extension": ".py",
   "mimetype": "text/x-python",
   "name": "python",
   "nbconvert_exporter": "python",
   "pygments_lexer": "ipython3",
   "version": "3.10.12"
  }
 },
 "nbformat": 4,
 "nbformat_minor": 5
}
