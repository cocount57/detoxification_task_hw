{
 "cells": [
  {
   "cell_type": "code",
   "execution_count": 1,
   "id": "185c3555",
   "metadata": {},
   "outputs": [],
   "source": [
    "import os\n",
    "os.environ[\"CUDA_DEVICE_ORDER\"] = \"PCI_BUS_ID\"\n",
    "os.environ[\"CUDA_VISIBLE_DEVICES\"] = \"1\""
   ]
  },
  {
   "cell_type": "code",
   "execution_count": 2,
   "id": "14b23102",
   "metadata": {},
   "outputs": [],
   "source": [
    "from transformers import UMT5ForConditionalGeneration, AutoTokenizer, Seq2SeqTrainer, Seq2SeqTrainingArguments\n",
    "model_name = \"google/umt5-base\"\n",
    "tokenizer = AutoTokenizer.from_pretrained(model_name, cache_dir=\"../cache\")\n"
   ]
  },
  {
   "cell_type": "code",
   "execution_count": 3,
   "id": "08da6bf6",
   "metadata": {},
   "outputs": [],
   "source": [
    "model = UMT5ForConditionalGeneration.from_pretrained(\"results12/checkpoint-9116\")"
   ]
  },
  {
   "cell_type": "code",
   "execution_count": 4,
   "id": "c650f67f",
   "metadata": {},
   "outputs": [],
   "source": [
    "import pandas as pd\n",
    "\n",
    "df = pd.read_csv(\"test_without_answers.tsv\", sep=\"\\t\")\n",
    "\n",
    "\n",
    "df['natural_sentence'] = df['toxic_sentence']\n"
   ]
  },
  {
   "cell_type": "code",
   "execution_count": 5,
   "id": "e31407c0",
   "metadata": {},
   "outputs": [],
   "source": [
    "language_prompts = {\n",
    "    \"en\": \"translate from English to English: \",\n",
    "    \"ru\": \"translate from Russian to Russian: \",\n",
    "    \"uk\": \"translate from Ukrainian to Ukrainian: \",\n",
    "    \"de\": \"translate from German to German: \",\n",
    "    \"es\": \"translate from Spanish to Spanish: \",\n",
    "    \"am\": \"translate from Amharic to Amharic: \",\n",
    "    \"zh\": \"translate from Chinese to Chinese: \",\n",
    "    \"ar\": \"translate from Arabic to Arabic: \",\n",
    "    \"hi\": \"translate from Hindi to Hindi: \",\n",
    "}"
   ]
  },
  {
   "cell_type": "code",
   "execution_count": 6,
   "id": "e21c5311",
   "metadata": {},
   "outputs": [],
   "source": [
    "toxics = []\n",
    "for idx in df.index:\n",
    "    toxic_sent = language_prompts[df['lang'][idx]] + df['toxic_sentence'][idx]\n",
    "    toxics.append(toxic_sent)"
   ]
  },
  {
   "cell_type": "code",
   "execution_count": 7,
   "id": "408656f2",
   "metadata": {},
   "outputs": [],
   "source": [
    "tokenizer = AutoTokenizer.from_pretrained(model_name, cache_dir=\"../cache\",max_length=512,truncation=True,padding='max_length')"
   ]
  },
  {
   "cell_type": "code",
   "execution_count": 8,
   "id": "ae9b3a7a",
   "metadata": {},
   "outputs": [
    {
     "name": "stderr",
     "output_type": "stream",
     "text": [
      "/home/azubrey/.local/lib/python3.10/site-packages/transformers/generation/utils.py:1132: UserWarning: Using the model-agnostic default `max_length` (=20) to control the generation length. We recommend setting `max_new_tokens` to control the maximum length of the generation.\n",
      "  warnings.warn(\n"
     ]
    }
   ],
   "source": [
    "from transformers import pipeline\n",
    "pipe = pipeline(\n",
    "    \"text2text-generation\",\n",
    "    model=model,\n",
    "    tokenizer=tokenizer,\n",
    "    device='cuda',\n",
    "    batch_size=32\n",
    ")\n",
    "\n",
    "neutrals = pipe(toxics)"
   ]
  },
  {
   "cell_type": "code",
   "execution_count": 9,
   "id": "424a93d1",
   "metadata": {},
   "outputs": [
    {
     "data": {
      "text/plain": [
       "5400"
      ]
     },
     "execution_count": 9,
     "metadata": {},
     "output_type": "execute_result"
    }
   ],
   "source": [
    "len(neutrals)"
   ]
  },
  {
   "cell_type": "code",
   "execution_count": 11,
   "id": "a12b2e39",
   "metadata": {},
   "outputs": [],
   "source": [
    "neutrals2 = []\n",
    "for line in neutrals:\n",
    "    neutrals2.append(line['generated_text'])"
   ]
  },
  {
   "cell_type": "code",
   "execution_count": 16,
   "id": "f02bdd74",
   "metadata": {},
   "outputs": [
    {
     "name": "stdout",
     "output_type": "stream",
     "text": [
      "blank lines:  8\n"
     ]
    }
   ],
   "source": [
    "neutrals3 = []\n",
    "j = 0\n",
    "for i, line in enumerate(neutrals2):\n",
    "    if line == '':\n",
    "        neutrals3.append(df['toxic_sentence'][i])\n",
    "        j = j+1\n",
    "    else:\n",
    "        neutrals3.append(line)\n",
    "print('blank lines: ', j)"
   ]
  },
  {
   "cell_type": "code",
   "execution_count": 17,
   "id": "8f50166a",
   "metadata": {},
   "outputs": [],
   "source": [
    "df2 = pd.read_csv(\"test_without_answers.tsv\", sep=\"\\t\")"
   ]
  },
  {
   "cell_type": "code",
   "execution_count": 18,
   "id": "d1aa2802",
   "metadata": {},
   "outputs": [],
   "source": [
    "df2['neutral_sentence'] = neutrals3"
   ]
  },
  {
   "cell_type": "code",
   "execution_count": 19,
   "id": "544ee6c3",
   "metadata": {},
   "outputs": [],
   "source": [
    "df3 = df2[['toxic_sentence','neutral_sentence','lang']]"
   ]
  },
  {
   "cell_type": "code",
   "execution_count": 20,
   "id": "d2d2fd38",
   "metadata": {},
   "outputs": [],
   "source": [
    "df3.to_csv(\"my_submission.tsv\", sep=\"\\t\", index=False)"
   ]
  },
  {
   "cell_type": "code",
   "execution_count": null,
   "id": "298bbb9a",
   "metadata": {},
   "outputs": [],
   "source": []
  }
 ],
 "metadata": {
  "kernelspec": {
   "display_name": "Python 3 (ipykernel)",
   "language": "python",
   "name": "python3"
  },
  "language_info": {
   "codemirror_mode": {
    "name": "ipython",
    "version": 3
   },
   "file_extension": ".py",
   "mimetype": "text/x-python",
   "name": "python",
   "nbconvert_exporter": "python",
   "pygments_lexer": "ipython3",
   "version": "3.10.12"
  }
 },
 "nbformat": 4,
 "nbformat_minor": 5
}
